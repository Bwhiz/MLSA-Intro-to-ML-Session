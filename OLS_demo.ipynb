{
  "cells": [
    {
      "cell_type": "markdown",
      "source": [
        "<h2 style='color:darkblue'>Introduction to Machine Learning</h2>\r\n",
        "\r\n",
        "*-Ejelonu Benedict Ositadinma*"
      ],
      "metadata": {
        "nteract": {
          "transient": {
            "deleting": false
          }
        }
      }
    },
    {
      "cell_type": "markdown",
      "source": [
        "<h3> Ordinary least squares (OLS) regression </h3> \r\n",
        "This is a method that allows us to find a line that best describes the relationship between one or more predictor variables and a response variable .\r\n",
        "This method allows us to find the following equation:\r\n",
        "\r\n",
        "$ \\hat{y} = b_0 + b_1 x $\r\n",
        "\r\n",
        "where : \r\n",
        "\r\n",
        "$ \\hat{y} = $ The estimated response value\r\n",
        "\r\n",
        "$ b_0 = $ The intercept of the regression line\r\n",
        "\r\n",
        "$ b_1 = $ The slope of the regression line\r\n",
        "\r\n",
        "This equation can help us understand the relationship between the predictor and response variable, and it can be used to predict the value of a response variable given the value of the predictor variable.\r\n"
      ],
      "metadata": {
        "nteract": {
          "transient": {
            "deleting": false
          }
        }
      }
    },
    {
      "cell_type": "code",
      "source": [
        "# import the needed libraries for this demo;\r\n",
        "import pandas as pd \r\n",
        "import numpy as np\r\n",
        "import matplotlib.pyplot as plt\r\n",
        "import statsmodels.api as sm"
      ],
      "outputs": [],
      "execution_count": 53,
      "metadata": {
        "jupyter": {
          "source_hidden": false,
          "outputs_hidden": false
        },
        "nteract": {
          "transient": {
            "deleting": false
          }
        },
        "gather": {
          "logged": 1676713788833
        }
      }
    },
    {
      "cell_type": "code",
      "source": [
        "# create dictionary housing records\r\n",
        "generated_dict = {\r\n",
        "    'hours_studied' : [6,1,4, 5, 6.5,7],\r\n",
        "    'exam_score' : [80,90,91, 78, 59, 75]\r\n",
        "}\r\n",
        "\r\n",
        "# create dataframe\r\n",
        "data = pd.DataFrame(generated_dict)\r\n",
        "\r\n",
        "# display data;\r\n",
        "data.head()"
      ],
      "outputs": [
        {
          "output_type": "execute_result",
          "execution_count": 54,
          "data": {
            "text/plain": "   hours_studied  exam_score\n0            6.0          80\n1            1.0          90\n2            4.0          91\n3            5.0          78\n4            6.5          59",
            "text/html": "<div>\n<style scoped>\n    .dataframe tbody tr th:only-of-type {\n        vertical-align: middle;\n    }\n\n    .dataframe tbody tr th {\n        vertical-align: top;\n    }\n\n    .dataframe thead th {\n        text-align: right;\n    }\n</style>\n<table border=\"1\" class=\"dataframe\">\n  <thead>\n    <tr style=\"text-align: right;\">\n      <th></th>\n      <th>hours_studied</th>\n      <th>exam_score</th>\n    </tr>\n  </thead>\n  <tbody>\n    <tr>\n      <th>0</th>\n      <td>6.0</td>\n      <td>80</td>\n    </tr>\n    <tr>\n      <th>1</th>\n      <td>1.0</td>\n      <td>90</td>\n    </tr>\n    <tr>\n      <th>2</th>\n      <td>4.0</td>\n      <td>91</td>\n    </tr>\n    <tr>\n      <th>3</th>\n      <td>5.0</td>\n      <td>78</td>\n    </tr>\n    <tr>\n      <th>4</th>\n      <td>6.5</td>\n      <td>59</td>\n    </tr>\n  </tbody>\n</table>\n</div>"
          },
          "metadata": {}
        }
      ],
      "execution_count": 54,
      "metadata": {
        "jupyter": {
          "source_hidden": false,
          "outputs_hidden": false
        },
        "nteract": {
          "transient": {
            "deleting": false
          }
        },
        "gather": {
          "logged": 1676713996871
        }
      }
    },
    {
      "cell_type": "code",
      "source": [
        "# define x and y variable :\r\n",
        "\r\n",
        "x = data['hours_studied']\r\n",
        "y = data['exam_score']"
      ],
      "outputs": [],
      "execution_count": 55,
      "metadata": {
        "jupyter": {
          "source_hidden": false,
          "outputs_hidden": false
        },
        "nteract": {
          "transient": {
            "deleting": false
          }
        },
        "gather": {
          "logged": 1676714037314
        }
      }
    },
    {
      "cell_type": "code",
      "source": [
        "x = sm.add_constant(x) #adding constants to x"
      ],
      "outputs": [],
      "execution_count": 56,
      "metadata": {
        "jupyter": {
          "source_hidden": false,
          "outputs_hidden": false
        },
        "nteract": {
          "transient": {
            "deleting": false
          }
        },
        "gather": {
          "logged": 1676714043476
        }
      }
    },
    {
      "cell_type": "code",
      "source": [
        "x"
      ],
      "outputs": [],
      "execution_count": null,
      "metadata": {
        "jupyter": {
          "source_hidden": false,
          "outputs_hidden": false
        },
        "nteract": {
          "transient": {
            "deleting": false
          }
        },
        "gather": {
          "logged": 1676701205509
        }
      }
    },
    {
      "cell_type": "code",
      "source": [
        "### Modelling ;\r\n",
        "\r\n",
        "model = sm.OLS(y, x).fit()\r\n",
        "\r\n",
        "print(model.params)\r\n",
        "# view model summary ;\r\n",
        "print(model.summary())"
      ],
      "outputs": [
        {
          "output_type": "stream",
          "name": "stdout",
          "text": "const            97.738382\nhours_studied    -3.845095\ndtype: float64\n                            OLS Regression Results                            \n==============================================================================\nDep. Variable:             exam_score   R-squared:                       0.524\nModel:                            OLS   Adj. R-squared:                  0.405\nMethod:                 Least Squares   F-statistic:                     4.406\nDate:                Sat, 18 Feb 2023   Prob (F-statistic):              0.104\nTime:                        09:54:26   Log-Likelihood:                -20.489\nNo. Observations:                   6   AIC:                             44.98\nDf Residuals:                       4   BIC:                             44.56\nDf Model:                           1                                         \nCovariance Type:            nonrobust                                         \n=================================================================================\n                    coef    std err          t      P>|t|      [0.025      0.975]\n---------------------------------------------------------------------------------\nconst            97.7384      9.729     10.046      0.001      70.727     124.750\nhours_studied    -3.8451      1.832     -2.099      0.104      -8.931       1.241\n==============================================================================\nOmnibus:                          nan   Durbin-Watson:                   2.531\nProb(Omnibus):                    nan   Jarque-Bera (JB):                0.642\nSkew:                          -0.747   Prob(JB):                        0.726\nKurtosis:                       2.422   Cond. No.                         14.5\n==============================================================================\n\nNotes:\n[1] Standard Errors assume that the covariance matrix of the errors is correctly specified.\n"
        }
      ],
      "execution_count": 57,
      "metadata": {
        "jupyter": {
          "source_hidden": false,
          "outputs_hidden": false
        },
        "nteract": {
          "transient": {
            "deleting": false
          }
        },
        "gather": {
          "logged": 1676714066166
        }
      }
    },
    {
      "cell_type": "code",
      "source": [
        "### visualize the line of best of fit;\r\n",
        "\r\n",
        "def visualize_ols(x_col , y_col):\r\n",
        "\r\n",
        "    \"\"\"\r\n",
        "    x_col = column in df baring the independent var \r\n",
        "    y_col = column in df baring the dependent var or var to be predicted \r\n",
        "\r\n",
        "    usage:\r\n",
        "        visualize(df['hours_studied'],data['exam_score'])\r\n",
        "    \"\"\"\r\n",
        "\r\n",
        "    a, b = np.polyfit(x_col, y_col, 1)\r\n",
        "    plt.scatter(x_col, y_col, color='purple')\r\n",
        "    plt.plot(x_col, a*x_col+b)\r\n",
        "\r\n",
        "    plt.text(1,80, 'y = ' + '{:.3f}'.format(b) + ' + {:.3f}'.format(a) + 'x', size=12)\r\n",
        "\r\n",
        "    plt.xlabel('Hours Studied')\r\n",
        "    plt.ylabel('Exam Score')\r\n"
      ],
      "outputs": [],
      "execution_count": 58,
      "metadata": {
        "jupyter": {
          "source_hidden": false,
          "outputs_hidden": false
        },
        "nteract": {
          "transient": {
            "deleting": false
          }
        },
        "gather": {
          "logged": 1676714196554
        }
      }
    },
    {
      "cell_type": "code",
      "source": [
        "visualize_ols(data['hours_studied'], data['exam_score'])"
      ],
      "outputs": [
        {
          "output_type": "display_data",
          "data": {
            "text/plain": "<Figure size 640x480 with 1 Axes>",
            "image/png": "[encoded data removed]"
          },
          "metadata": {}
        }
      ],
      "execution_count": 59,
      "metadata": {
        "jupyter": {
          "source_hidden": false,
          "outputs_hidden": false
        },
        "nteract": {
          "transient": {
            "deleting": false
          }
        },
        "gather": {
          "logged": 1676714262012
        }
      }
    },
    {
      "cell_type": "code",
      "source": [
        "def predictor(hour_val,x_col=data['hours_studied'],y_col=data['exam_score']):\r\n",
        "\r\n",
        "    a, b = np.polyfit(x_col, y_col, 1)\r\n",
        "    plt.scatter(x_col, y_col, color='purple')\r\n",
        "    plt.plot(x_col, a*x_col+b)\r\n",
        "\r\n",
        "    predicted_val = a*hour_val+b\r\n",
        "\r\n",
        "    plt.scatter(hour_val,predicted_val, color='k')\r\n",
        "    plt.axhline(predicted_val, color = 'r', ls = '--')\r\n",
        "    plt.axvline(hour_val, color = 'r', ls = '--')\r\n",
        "\r\n",
        "    plt.text(1,80, 'y = ' + '{:.3f}'.format(b) + ' + {:.3f}'.format(a) + 'x', size=12)\r\n",
        "\r\n",
        "    plt.xlabel('Hours Studied')\r\n",
        "    plt.ylabel('Exam Score')"
      ],
      "outputs": [],
      "execution_count": 60,
      "metadata": {
        "jupyter": {
          "source_hidden": false,
          "outputs_hidden": false
        },
        "nteract": {
          "transient": {
            "deleting": false
          }
        },
        "gather": {
          "logged": 1676714343774
        }
      }
    },
    {
      "cell_type": "code",
      "source": [
        "predictor(0)"
      ],
      "outputs": [
        {
          "output_type": "display_data",
          "data": {
            "text/plain": "<Figure size 640x480 with 1 Axes>",
            "image/png": "[encoded data removed]"
          },
          "metadata": {}
        }
      ],
      "execution_count": 65,
      "metadata": {
        "jupyter": {
          "source_hidden": false,
          "outputs_hidden": false
        },
        "nteract": {
          "transient": {
            "deleting": false
          }
        },
        "gather": {
          "logged": 1676714443368
        }
      }
    },
    {
      "cell_type": "code",
      "source": [
        "97.738 - 3.845*0"
      ],
      "outputs": [
        {
          "output_type": "execute_result",
          "execution_count": 66,
          "data": {
            "text/plain": "97.738"
          },
          "metadata": {}
        }
      ],
      "execution_count": 66,
      "metadata": {
        "jupyter": {
          "source_hidden": false,
          "outputs_hidden": false
        },
        "nteract": {
          "transient": {
            "deleting": false
          }
        },
        "gather": {
          "logged": 1676714453108
        }
      }
    },
    {
      "cell_type": "code",
      "source": [],
      "outputs": [],
      "execution_count": null,
      "metadata": {
        "jupyter": {
          "source_hidden": false,
          "outputs_hidden": false
        },
        "nteract": {
          "transient": {
            "deleting": false
          }
        }
      }
    }
  ],
  "metadata": {
    "kernelspec": {
      "name": "python3",
      "language": "python",
      "display_name": "Python 3 (ipykernel)"
    },
    "language_info": {
      "name": "python",
      "version": "3.8.5",
      "mimetype": "text/x-python",
      "codemirror_mode": {
        "name": "ipython",
        "version": 3
      },
      "pygments_lexer": "ipython3",
      "nbconvert_exporter": "python",
      "file_extension": ".py"
    },
    "microsoft": {
      "ms_spell_check": {
        "ms_spell_check_language": "en"
      },
      "host": {
        "AzureML": {
          "notebookHasBeenCompleted": true
        }
      }
    },
    "kernel_info": {
      "name": "python3"
    },
    "nteract": {
      "version": "nteract-front-end@1.0.0"
    }
  },
  "nbformat": 4,
  "nbformat_minor": 2
}